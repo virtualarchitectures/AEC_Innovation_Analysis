{
 "cells": [
  {
   "cell_type": "markdown",
   "metadata": {},
   "source": [
    "# Download Twitter Data"
   ]
  },
  {
   "cell_type": "markdown",
   "metadata": {},
   "source": [
    "#### Import Dependencies"
   ]
  },
  {
   "cell_type": "code",
   "execution_count": 1,
   "metadata": {},
   "outputs": [],
   "source": [
    "# Tweepy library to connect to the Twitter API and process the response\n",
    "import tweepy\n",
    "# JSON to serialise JSON\n",
    "import json\n",
    "# Pandas to work with dataframes\n",
    "import pandas as pd\n",
    "# wget to retrieve profile images\n",
    "import wget\n",
    "# OS to manipulate file paths and names\n",
    "import os\n",
    "# Shutil to handle file duplicates\n",
    "import shutil\n",
    "# Time to handle API rate limiting\n",
    "import time\n",
    "\n",
    "# Read environment variables\n",
    "from dotenv import load_dotenv"
   ]
  },
  {
   "cell_type": "markdown",
   "metadata": {},
   "source": [
    "#### Load configuration file for environment variables"
   ]
  },
  {
   "cell_type": "code",
   "execution_count": 2,
   "metadata": {},
   "outputs": [
    {
     "data": {
      "text/plain": [
       "True"
      ]
     },
     "execution_count": 2,
     "metadata": {},
     "output_type": "execute_result"
    }
   ],
   "source": [
    "load_dotenv('configuration.env')"
   ]
  },
  {
   "cell_type": "markdown",
   "metadata": {},
   "source": [
    "#### Load Twitter authentication from environment variables"
   ]
  },
  {
   "cell_type": "code",
   "execution_count": 3,
   "metadata": {},
   "outputs": [],
   "source": [
    "# Twitter App credentials\n",
    "consumer_key = os.getenv('TWITTER_CONSUMER_KEY')\n",
    "consumer_secret = os.getenv('TWITTER_CONSUMER_SECRET')\n",
    "access_token = os.getenv('TWITTER_ACCESS_TOKEN')\n",
    "access_token_secret = os.getenv('TWITTER_ACCESS_TOKEN_SECRET')"
   ]
  },
  {
   "cell_type": "markdown",
   "metadata": {},
   "source": [
    "#### Twitter Authentication"
   ]
  },
  {
   "cell_type": "code",
   "execution_count": 4,
   "metadata": {},
   "outputs": [],
   "source": [
    "auth = tweepy.OAuthHandler(consumer_key, consumer_secret)\n",
    "auth.set_access_token(access_token, access_token_secret)\n",
    "api = tweepy.API(auth)"
   ]
  },
  {
   "cell_type": "markdown",
   "metadata": {},
   "source": [
    "#### Set API Rate Limit"
   ]
  },
  {
   "cell_type": "code",
   "execution_count": null,
   "metadata": {},
   "outputs": [],
   "source": [
    "rate_limit = 5"
   ]
  },
  {
   "cell_type": "markdown",
   "metadata": {},
   "source": [
    "#### Seed User"
   ]
  },
  {
   "cell_type": "code",
   "execution_count": null,
   "metadata": {},
   "outputs": [],
   "source": [
    "# User's screen name\n",
    "screen_name = 'BIM360'"
   ]
  },
  {
   "cell_type": "markdown",
   "metadata": {},
   "source": [
    "### Download Twitter Friends"
   ]
  },
  {
   "cell_type": "markdown",
   "metadata": {},
   "source": [
    "Function for downloading a user's friends (the accounts they follow)"
   ]
  },
  {
   "cell_type": "code",
   "execution_count": null,
   "metadata": {},
   "outputs": [],
   "source": [
    "def download_friends(screen_name):    \n",
    "    \n",
    "    friends = []\n",
    "    \n",
    "    print('Processing friends of ' + screen_name)\n",
    "    \n",
    "    # Iterate through friends\n",
    "    for user in tweepy.Cursor(api.friends, screen_name).items(2):\n",
    "        \n",
    "        print(user.screen_name)\n",
    "        \n",
    "        #Store the user's data\n",
    "        data = {'id_str': user.id_str,\n",
    "                 'screen_name': user.screen_name,\n",
    "                 'location': user.location,\n",
    "                 'profile_image_url': user.profile_image_url,\n",
    "                 'description': user.description,\n",
    "                 # Placeholder for website url\n",
    "                 'expanded_url': '',\n",
    "                 'followers_count': user.followers_count,\n",
    "                 'friends_count': user.friends_count,\n",
    "                 # Format datetime object\n",
    "                 'created_at': user.created_at.strftime(\"%y-%m-%d, %H:%M:%S\"),\n",
    "                 'verified': user.verified\n",
    "                }\n",
    "        \n",
    "        # Check for website URL and add to data\n",
    "        if ('url' in user.entities):\n",
    "            data['expanded_url'] = user.entities['url']['urls'][0]['expanded_url'],\n",
    "        else:\n",
    "            print(user.screen_name + ' has no associated url')\n",
    "            \n",
    "        # Save the Twitter profile image\n",
    "        file_destination = os.path.join('logos/' + user.screen_name + '.png')        \n",
    "        # Check if file already exists\n",
    "        if os.path.exists(file_destination) != True:\n",
    "            try:\n",
    "                # Remove the '_normal' tag from the URL to get a full sized image\n",
    "                link = user.profile_image_url.replace('_normal','')\n",
    "                # Use wget to download and save the image file\n",
    "                wget.download(link, file_destination)\n",
    "            except:\n",
    "                print('Profile image not available')\n",
    "        else:\n",
    "            print('Profile image already downloaded')\n",
    "        \n",
    "        # Append user to list of friends\n",
    "        friends.append(data)\n",
    "        \n",
    "        # Wait for rate limiter\n",
    "        time.sleep(rate_limit)\n",
    "        \n",
    "    print(screen_name + ' processing complete!')\n",
    "    return friends"
   ]
  },
  {
   "cell_type": "markdown",
   "metadata": {},
   "source": [
    "#### Download friends of seed user"
   ]
  },
  {
   "cell_type": "code",
   "execution_count": null,
   "metadata": {},
   "outputs": [],
   "source": [
    "friends = download_friends(screen_name)"
   ]
  },
  {
   "cell_type": "markdown",
   "metadata": {},
   "source": [
    "#### Write friends file"
   ]
  },
  {
   "cell_type": "code",
   "execution_count": null,
   "metadata": {},
   "outputs": [],
   "source": [
    "with open('./friends_lists/{screen_name}.json'.format(screen_name=screen_name), 'w') as file:\n",
    "    file.write(json.dumps(friends))"
   ]
  },
  {
   "cell_type": "markdown",
   "metadata": {},
   "source": [
    "#### Download friends-of-friends"
   ]
  },
  {
   "cell_type": "code",
   "execution_count": null,
   "metadata": {},
   "outputs": [],
   "source": [
    "for friend in friends:\n",
    "    screen_name = friend['screen_name']\n",
    "    \n",
    "    fof = download_friends(screen_name)\n",
    "    \n",
    "    with open('./friends_lists/{screen_name}.json'.format(screen_name=screen_name), 'w') as file:\n",
    "        file.write(json.dumps(friends))"
   ]
  },
  {
   "cell_type": "code",
   "execution_count": null,
   "metadata": {},
   "outputs": [],
   "source": []
  }
 ],
 "metadata": {
  "kernelspec": {
   "display_name": "Python 3",
   "language": "python",
   "name": "python3"
  },
  "language_info": {
   "codemirror_mode": {
    "name": "ipython",
    "version": 3
   },
   "file_extension": ".py",
   "mimetype": "text/x-python",
   "name": "python",
   "nbconvert_exporter": "python",
   "pygments_lexer": "ipython3",
   "version": "3.8.5"
  }
 },
 "nbformat": 4,
 "nbformat_minor": 4
}
