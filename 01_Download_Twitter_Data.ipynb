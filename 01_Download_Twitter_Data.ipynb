{
 "cells": [
  {
   "cell_type": "markdown",
   "metadata": {},
   "source": [
    "# Download Twitter Data"
   ]
  },
  {
   "cell_type": "markdown",
   "metadata": {},
   "source": [
    "#### Import Dependencies"
   ]
  },
  {
   "cell_type": "code",
   "execution_count": null,
   "metadata": {},
   "outputs": [],
   "source": [
    "# Tweepy library to connect to the Twitter API and process the response\n",
    "import tweepy\n",
    "# JSON to serialise JSON\n",
    "import json\n",
    "# Pandas to work with dataframes\n",
    "import pandas as pd\n",
    "# wget to retrieve profile images\n",
    "import wget\n",
    "# OS to manipulate file paths and names\n",
    "import os\n",
    "# Shutil to handle file duplicates\n",
    "import shutil\n",
    "# Time to handle API rate limiting\n",
    "import time\n",
    "\n",
    "# Read environment variables\n",
    "from dotenv import load_dotenv"
   ]
  },
  {
   "cell_type": "markdown",
   "metadata": {},
   "source": [
    "#### Load configuration file for environment variables"
   ]
  },
  {
   "cell_type": "code",
   "execution_count": null,
   "metadata": {},
   "outputs": [],
   "source": [
    "load_dotenv('configuration.env')"
   ]
  },
  {
   "cell_type": "markdown",
   "metadata": {},
   "source": [
    "#### Load Twitter authentication from environment variables"
   ]
  },
  {
   "cell_type": "code",
   "execution_count": null,
   "metadata": {},
   "outputs": [],
   "source": [
    "# Twitter App credentials\n",
    "consumer_key = os.getenv('TWITTER_CONSUMER_KEY')\n",
    "consumer_secret = os.getenv('TWITTER_CONSUMER_SECRET')\n",
    "access_token = os.getenv('TWITTER_ACCESS_TOKEN')\n",
    "access_token_secret = os.getenv('TWITTER_ACCESS_TOKEN_SECRET')"
   ]
  },
  {
   "cell_type": "markdown",
   "metadata": {},
   "source": [
    "#### Twitter Authentication"
   ]
  },
  {
   "cell_type": "code",
   "execution_count": null,
   "metadata": {},
   "outputs": [],
   "source": [
    "auth = tweepy.OAuthHandler(consumer_key, consumer_secret)\n",
    "auth.set_access_token(access_token, access_token_secret)\n",
    "api = tweepy.API(auth, wait_on_rate_limit=True, wait_on_rate_limit_notify=True, retry_count=3,retry_delay=5,retry_errors=set([401, 404, 500, 503]))"
   ]
  },
  {
   "cell_type": "markdown",
   "metadata": {},
   "source": [
    "#### Set API Rate Limit"
   ]
  },
  {
   "cell_type": "code",
   "execution_count": null,
   "metadata": {},
   "outputs": [],
   "source": [
    "rate_limit = 5"
   ]
  },
  {
   "cell_type": "markdown",
   "metadata": {},
   "source": [
    "#### Seed User"
   ]
  },
  {
   "cell_type": "code",
   "execution_count": null,
   "metadata": {},
   "outputs": [],
   "source": [
    "# User's screen name\n",
    "screen_name = \"BIM360\""
   ]
  },
  {
   "cell_type": "markdown",
   "metadata": {},
   "source": [
    "#### Get User ID from Screen Name"
   ]
  },
  {
   "cell_type": "code",
   "execution_count": null,
   "metadata": {},
   "outputs": [],
   "source": [
    "user = api.get_user(screen_name)\n",
    "seed_user = user.id_str\n",
    "print(\"User ID for \" + screen_name + \" is \" + seed_user)"
   ]
  },
  {
   "cell_type": "markdown",
   "metadata": {},
   "source": [
    "### Download Twitter Friends List"
   ]
  },
  {
   "cell_type": "markdown",
   "metadata": {},
   "source": [
    "Function for downloading a list of a user's friends (the accounts they follow). The function requires the user ID of a 'seed' user.\n",
    "\n",
    "**Note:** Twitter accounts marked 'private' or `protected` with return an empty list."
   ]
  },
  {
   "cell_type": "code",
   "execution_count": null,
   "metadata": {},
   "outputs": [],
   "source": [
    "def download_friends_list(user_id):\n",
    "    \n",
    "    friends = []\n",
    "    \n",
    "    try:\n",
    "        # getting the friends list \n",
    "        friends = api.friends_ids(user_id, stringify_ids=True)\n",
    "        \n",
    "        print(user_id + \" friends = \" + str(len(friends)))\n",
    "        \n",
    "    except tweepy.TweepError as e: \n",
    "        print(user_id + \" encountered Tweepy Error: {}\".format(e))\n",
    "        pass\n",
    "    \n",
    "    with open(\"./01_friends_lists/{filename}.json\".format(filename=user_id), \"w\") as file:\n",
    "        file.write(json.dumps(friends))\n",
    "    \n",
    "    return friends"
   ]
  },
  {
   "cell_type": "markdown",
   "metadata": {},
   "source": [
    "#### Download friends of seed user"
   ]
  },
  {
   "cell_type": "code",
   "execution_count": null,
   "metadata": {},
   "outputs": [],
   "source": [
    "friends = download_friends_list(seed_user)"
   ]
  },
  {
   "cell_type": "markdown",
   "metadata": {},
   "source": [
    "#### Download friends-of-friends"
   ]
  },
  {
   "cell_type": "markdown",
   "metadata": {},
   "source": [
    "If the download fails at any point you can restart from a specific point by taking a slice. Amending the first line of the following code to `for friend in friends[100:]:` will process all remaining items in the list from the hundredth element to the end."
   ]
  },
  {
   "cell_type": "code",
   "execution_count": null,
   "metadata": {},
   "outputs": [],
   "source": [
    "for friend in friends:\n",
    "    \n",
    "    fof = download_friends_list(str(friend))\n",
    "    \n",
    "    # Wait for rate limiter\n",
    "    time.sleep(rate_limit)\n",
    "        \n",
    "print(\"Downloading friends-of-friends complete!\")"
   ]
  },
  {
   "cell_type": "markdown",
   "metadata": {},
   "source": [
    "### Identify Unique Users"
   ]
  },
  {
   "cell_type": "markdown",
   "metadata": {},
   "source": [
    "This code identifies a list of unique users contained the friends lists captured above. Obtaining a list of unique users will speed up the process of downloading user details."
   ]
  },
  {
   "cell_type": "markdown",
   "metadata": {},
   "source": [
    "#### Set directory to read friends lists from"
   ]
  },
  {
   "cell_type": "code",
   "execution_count": null,
   "metadata": {},
   "outputs": [],
   "source": [
    "friends_directory = \"./01_friends_lists/\""
   ]
  },
  {
   "cell_type": "markdown",
   "metadata": {},
   "source": [
    "#### Identify unique users and calculate summary statistics"
   ]
  },
  {
   "cell_type": "code",
   "execution_count": null,
   "metadata": {},
   "outputs": [],
   "source": [
    "filecount = 0\n",
    "users = []\n",
    "uniqueIDs = []\n",
    "\n",
    "#Loop through files of friends lists\n",
    "for file in os.listdir(friends_directory):\n",
    "    \n",
    "    # Count files processed\n",
    "    filecount += 1\n",
    "    \n",
    "    # Open the file\n",
    "    with open(friends_directory+file,encoding = \"utf-8\") as f:\n",
    "        \n",
    "        # Loop through friendlists\n",
    "        for friendlist in f:\n",
    "            \n",
    "            # Convert JSON array to python list\n",
    "            friends = json.loads(friendlist)\n",
    "            \n",
    "            # Add friends to list of users\n",
    "            users = users + friends\n",
    "\n",
    "#Create a dictionary with keys from users list to remove duplicates\n",
    "d = dict.fromkeys(users)\n",
    "#Unpack the dictionary back to a list\n",
    "uniqueIDs = [*d]\n",
    "\n",
    "print(\"---------SUMMARY---------\")\n",
    "print(\"Seed User = 1\")\n",
    "print(\"Friends = \" + str(filecount))\n",
    "print(\"Friends of Friends = \" + str(len(uniqueIDs) - filecount - 1)) #Excluding seed user\n",
    "print(\"Unique users = \" + str(len(uniqueIDs)))\n",
    "print(\"Relationships = \" + str(len(users)))"
   ]
  },
  {
   "cell_type": "markdown",
   "metadata": {},
   "source": [
    "### Download Twitter User Details"
   ]
  },
  {
   "cell_type": "markdown",
   "metadata": {},
   "source": [
    "Function for downloading public user information for each unique account identified in the friends list above. The function requires a list of user's IDs. It also accepts an optional argument `store_images=True` which will download a user's profile image or logo if they have one."
   ]
  },
  {
   "cell_type": "code",
   "execution_count": null,
   "metadata": {},
   "outputs": [],
   "source": [
    "def download_users(userIDs, store_images=False):    \n",
    "    \n",
    "    # Count of processed users and batches\n",
    "    user_count = 0\n",
    "    batch_count = 0\n",
    "    \n",
    "    chunks = (len(userIDs) - 1) // 100 + 1\n",
    "    for i in range(chunks):\n",
    "        batch = userIDs[i*100:(i+1)*100]\n",
    "        \n",
    "        # Increment batch count\n",
    "        batch_count = batch_count + 1\n",
    "        print(\"---------BATCH {}---------\".format(str(batch_count)))\n",
    "    \n",
    "        try:\n",
    "            #Request users by ID in batches\n",
    "            users = api.lookup_users(batch)\n",
    "\n",
    "            for user in users:\n",
    "                # Increment friend count\n",
    "                user_count = user_count + 1\n",
    "                print(str(user_count) + \": \" + user.id_str + \"_\" + user.screen_name)\n",
    "\n",
    "                #Store the user's data\n",
    "                data = {\"id_str\": user.id_str,\n",
    "                        \"screen_name\": user.screen_name,\n",
    "                        \"name\": user.name,\n",
    "                        \"location\": user.location,\n",
    "                        \"profile_image_url\": user.profile_image_url,\n",
    "                        \"description\": user.description,\n",
    "                        # Placeholder for website url\n",
    "                        \"expanded_url\": \"\",\n",
    "                        \"followers_count\": user.followers_count,\n",
    "                        \"friends_count\": user.friends_count,\n",
    "                        \"statuses_count\": user.statuses_count,\n",
    "                        # Format datetime object\n",
    "                        \"created_at\": user.created_at.strftime(\"%y-%m-%d, %H:%M:%S\"),\n",
    "                        \"protected\": user.protected,\n",
    "                        \"verified\": user.verified\n",
    "                       }\n",
    "\n",
    "                # Check for website URL and add to data\n",
    "                if (\"url\" in user.entities):\n",
    "                    data[\"expanded_url\"] = user.entities[\"url\"][\"urls\"][0][\"expanded_url\"],\n",
    "                else:\n",
    "                    print(\"No associated url\")\n",
    "\n",
    "                # Save user details\n",
    "                with open(\"./02_user_details/{filename}.json\".format(filename=user.id_str), \"w\") as file:\n",
    "                    file.write(json.dumps(data))\n",
    "\n",
    "                # Save the Twitter profile image\n",
    "                if store_images == True:\n",
    "                    file_destination = os.path.join(\"03_logos/{filename}.png\".format(filename=user.id_str))\n",
    "                    # Check if file already exists\n",
    "                    if os.path.exists(file_destination) != True:\n",
    "                        try:\n",
    "                            # Remove the '_normal' tag from the URL to get a full sized image\n",
    "                            link = user.profile_image_url.replace(\"_normal\",\"\")\n",
    "                            # Use wget to download and save the image file\n",
    "                            wget.download(link, file_destination)\n",
    "                        except:\n",
    "                            print(\"Profile image not available\")\n",
    "                    else:\n",
    "                        print(\"Profile image already downloaded\")\n",
    "                else:\n",
    "                    pass\n",
    "\n",
    "            # Wait for rate limiter\n",
    "            time.sleep(rate_limit)\n",
    "        \n",
    "        except tweepy.TweepError as e: \n",
    "            print(\"Encountered Tweepy Error: {}\".format(e))\n",
    "            pass\n",
    "    \n",
    "    print(\"Processing complete!\")"
   ]
  },
  {
   "cell_type": "markdown",
   "metadata": {},
   "source": [
    "#### Download User Details"
   ]
  },
  {
   "cell_type": "markdown",
   "metadata": {},
   "source": [
    "If the download fails at any point you can restart from a specific point by taking a slice. Amending the first line of the following code with `uniqueIDs[100:]` will process all remaining items in the list from the hundredth element to the end."
   ]
  },
  {
   "cell_type": "code",
   "execution_count": null,
   "metadata": {},
   "outputs": [],
   "source": [
    "download_users(uniqueIDs, store_images=True)"
   ]
  },
  {
   "cell_type": "markdown",
   "metadata": {},
   "source": [
    "###  Check Missed User Accounts"
   ]
  },
  {
   "cell_type": "markdown",
   "metadata": {},
   "source": [
    "As the download process takes time the status of accounts may change. If a requested user is unknown, suspended, or deleted at the time of the request to the Twitter API then that user will not be returned in the list of results. The following code checks for any missed records. By repeating the code you can ensure you have details of all available accounts and then store a reference list of those accounts that weren't available for download."
   ]
  },
  {
   "cell_type": "markdown",
   "metadata": {},
   "source": [
    "#### Set directory to read user details from"
   ]
  },
  {
   "cell_type": "code",
   "execution_count": null,
   "metadata": {},
   "outputs": [],
   "source": [
    "user_directory = \"./02_user_details/\""
   ]
  },
  {
   "cell_type": "markdown",
   "metadata": {},
   "source": [
    "#### Get list of captured user IDs"
   ]
  },
  {
   "cell_type": "code",
   "execution_count": null,
   "metadata": {},
   "outputs": [],
   "source": [
    "capturedIDs = []\n",
    "\n",
    "#Loop through files of user details\n",
    "for file in os.listdir(user_directory):\n",
    "    filename = os.path.splitext(file)[0]\n",
    "    capturedIDs.append(filename)\n",
    "\n",
    "print(\"Captured user details = \" + str(len(capturedIDs)) + \"/\" + str(len(uniqueIDs)))\n",
    "print(\"Missed records = \" + str(len(uniqueIDs) - len(capturedIDs)))"
   ]
  },
  {
   "cell_type": "markdown",
   "metadata": {},
   "source": [
    "#### Generate list of missing IDs"
   ]
  },
  {
   "cell_type": "code",
   "execution_count": null,
   "metadata": {},
   "outputs": [],
   "source": [
    "missingIDs = list(set(uniqueIDs).difference(capturedIDs))\n",
    "print(\"Records to find = \" + str(len(missingIDs)))"
   ]
  },
  {
   "cell_type": "markdown",
   "metadata": {},
   "source": [
    "#### Check if missing user details can be downloaded"
   ]
  },
  {
   "cell_type": "code",
   "execution_count": null,
   "metadata": {},
   "outputs": [],
   "source": [
    "download_users(missingIDs, store_images=True)"
   ]
  },
  {
   "cell_type": "markdown",
   "metadata": {},
   "source": [
    "#### Store list of missing IDs"
   ]
  },
  {
   "cell_type": "code",
   "execution_count": null,
   "metadata": {},
   "outputs": [],
   "source": [
    "with open(\"./04_inaccessible_users/inaccessible_users.json\", \"w\") as file:\n",
    "    file.write(json.dumps(missingIDs))"
   ]
  },
  {
   "cell_type": "code",
   "execution_count": null,
   "metadata": {},
   "outputs": [],
   "source": []
  }
 ],
 "metadata": {
  "kernelspec": {
   "display_name": "Python 3",
   "language": "python",
   "name": "python3"
  },
  "language_info": {
   "codemirror_mode": {
    "name": "ipython",
    "version": 3
   },
   "file_extension": ".py",
   "mimetype": "text/x-python",
   "name": "python",
   "nbconvert_exporter": "python",
   "pygments_lexer": "ipython3",
   "version": "3.8.5"
  }
 },
 "nbformat": 4,
 "nbformat_minor": 4
}
