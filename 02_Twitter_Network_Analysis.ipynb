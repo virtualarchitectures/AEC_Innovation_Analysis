{
 "cells": [
  {
   "cell_type": "markdown",
   "metadata": {},
   "source": [
    "# Twitter Network Analysis"
   ]
  },
  {
   "cell_type": "markdown",
   "metadata": {},
   "source": [
    "#### Import Dependencies"
   ]
  },
  {
   "cell_type": "code",
   "execution_count": null,
   "metadata": {},
   "outputs": [],
   "source": [
    "# NetworkX for network analysis\n",
    "import networkx as nx\n",
    "# OS to manipulate file paths and names\n",
    "import os\n",
    "# JSON to serialise JSON\n",
    "import json\n",
    "# Pandas to work with dataframes\n",
    "import pandas as pd"
   ]
  },
  {
   "cell_type": "markdown",
   "metadata": {},
   "source": [
    "### Construct Graph with NetworkX"
   ]
  },
  {
   "cell_type": "markdown",
   "metadata": {},
   "source": [
    "#### Set directory to read friends lists from"
   ]
  },
  {
   "cell_type": "code",
   "execution_count": null,
   "metadata": {},
   "outputs": [],
   "source": [
    "friends_directory = \"./01_friends_lists/\""
   ]
  },
  {
   "cell_type": "markdown",
   "metadata": {},
   "source": [
    "#### Initialise empty directed graph"
   ]
  },
  {
   "cell_type": "code",
   "execution_count": null,
   "metadata": {},
   "outputs": [],
   "source": [
    "G = nx.DiGraph()"
   ]
  },
  {
   "cell_type": "markdown",
   "metadata": {},
   "source": [
    "#### Load friends data and construct graph"
   ]
  },
  {
   "cell_type": "code",
   "execution_count": null,
   "metadata": {},
   "outputs": [],
   "source": [
    "def construct_graph(network_graph, file_directory):\n",
    "    G = network_graph\n",
    "    filecount = 0\n",
    "    uniqueIDs = 0\n",
    "    edgecount = 0\n",
    "\n",
    "    #Loop through files of friends lists\n",
    "    for filename in os.listdir(file_directory):\n",
    "\n",
    "        filecount += 1\n",
    "\n",
    "        #Open the file\n",
    "        with open(friends_directory+filename,encoding = \"utf-8\") as f:\n",
    "            #Get name of node from filename\n",
    "            friend_ID = filename.replace(\".json\",\"\")\n",
    "            #Check if node already exists in graph\n",
    "            if friend_ID not in G:\n",
    "                #Add new node to the graph\n",
    "                G.add_node(friend_ID)\n",
    "                uniqueIDs += 1\n",
    "            else:\n",
    "                pass\n",
    "\n",
    "            # Loop through friendlists\n",
    "            for friendlist in f:\n",
    "\n",
    "                # Convert JSON array to python list\n",
    "                friends = json.loads(friendlist)\n",
    "\n",
    "                # Loop through friends of the current node adding new nodes and edges\n",
    "                for friend in friends:\n",
    "\n",
    "                    # Check if friend node already exists\n",
    "                    if friend in G:\n",
    "                        pass\n",
    "                    else:\n",
    "                        # Create new node\n",
    "                        G.add_node(friend)\n",
    "                        uniqueIDs += 1\n",
    "\n",
    "                    # Create edge from current node to friend node\n",
    "                    G.add_edge(friend_ID,friend)\n",
    "                    edgecount += 1\n",
    "\n",
    "    print(\"---------SUMMARY---------\")\n",
    "    print(\"Friends Files = \" + str(filecount)) \n",
    "    print(\"Nodes = \" + str(uniqueIDs))\n",
    "    print(\"Edges = \" + str(edgecount))"
   ]
  },
  {
   "cell_type": "markdown",
   "metadata": {},
   "source": [
    "#### Construct Graph"
   ]
  },
  {
   "cell_type": "code",
   "execution_count": null,
   "metadata": {},
   "outputs": [],
   "source": [
    "construct_graph(G, friends_directory)"
   ]
  },
  {
   "cell_type": "markdown",
   "metadata": {},
   "source": [
    "### Add Twitter User Details As Network Node Attributes"
   ]
  },
  {
   "cell_type": "markdown",
   "metadata": {},
   "source": [
    "#### Set directory to read user details from"
   ]
  },
  {
   "cell_type": "code",
   "execution_count": null,
   "metadata": {},
   "outputs": [],
   "source": [
    "users_directory = \"./02_user_details/\""
   ]
  },
  {
   "cell_type": "markdown",
   "metadata": {},
   "source": [
    "#### Load Twitter user details and add attributes to nodes"
   ]
  },
  {
   "cell_type": "code",
   "execution_count": null,
   "metadata": {},
   "outputs": [],
   "source": [
    "def load_node_attributes(network_graph, file_directory):\n",
    "    G = network_graph\n",
    "    filecount = 0\n",
    "    nodecount = 0\n",
    "\n",
    "    # Loop through files of user details\n",
    "    for filename in os.listdir(file_directory):\n",
    "\n",
    "        # Get name of node from filename\n",
    "        node_ID = filename.replace(\".json\",\"\")\n",
    "\n",
    "        # Count files processed\n",
    "        filecount += 1\n",
    "\n",
    "        # Open the file\n",
    "        with open(users_directory+filename,encoding = \"utf-8\") as f:\n",
    "            # Loop through user details\n",
    "            for user_details in f:\n",
    "\n",
    "                # Convert JSON array to python dictionary\n",
    "                attributes = json.loads(user_details)\n",
    "                \n",
    "                # Set node attribute names and datatypes\n",
    "                current_node = network_graph.nodes[str(node_ID)]\n",
    "                current_node[\"screen_name\"] = str(attributes[\"screen_name\"])\n",
    "                current_node[\"name\"] = str(attributes[\"name\"])\n",
    "                current_node[\"location\"] = str(attributes[\"location\"])\n",
    "                current_node[\"profile_image_url\"] = str(attributes[\"profile_image_url\"])\n",
    "                current_node[\"description\"] = str(attributes[\"description\"])\n",
    "                current_node[\"expanded_url\"] = str(attributes[\"expanded_url\"])\n",
    "                current_node[\"followers_count\"] = attributes[\"followers_count\"]\n",
    "                current_node[\"friends_count\"] = attributes[\"friends_count\"]\n",
    "                current_node[\"statuses_count\"] = attributes[\"statuses_count\"]\n",
    "                current_node[\"created_at\"] = attributes[\"created_at\"]\n",
    "                current_node[\"protected\"] = attributes[\"protected\"]\n",
    "                current_node[\"verified\"] = attributes[\"verified\"]\n",
    "\n",
    "                # Count nodes updated\n",
    "                nodecount += 1\n",
    "\n",
    "    print(\"---------SUMMARY---------\")\n",
    "    print(\"User Files Processed = \" + str(filecount))\n",
    "    print(\"Nodes Updated = \" + str(nodecount))"
   ]
  },
  {
   "cell_type": "markdown",
   "metadata": {},
   "source": [
    "#### Add Node Attributes"
   ]
  },
  {
   "cell_type": "code",
   "execution_count": null,
   "metadata": {},
   "outputs": [],
   "source": [
    "load_node_attributes(G, users_directory)"
   ]
  },
  {
   "cell_type": "markdown",
   "metadata": {},
   "source": [
    "### Save Node Attributes to CSV"
   ]
  },
  {
   "cell_type": "markdown",
   "metadata": {},
   "source": [
    "#### Add nodes to dataframe"
   ]
  },
  {
   "cell_type": "code",
   "execution_count": null,
   "metadata": {},
   "outputs": [],
   "source": [
    "df = pd.DataFrame.from_dict(dict(G.nodes(data=True)), orient='index')\n",
    "df.count()"
   ]
  },
  {
   "cell_type": "markdown",
   "metadata": {},
   "source": [
    "#### Check dataframe contents"
   ]
  },
  {
   "cell_type": "code",
   "execution_count": null,
   "metadata": {},
   "outputs": [],
   "source": [
    "df.head()"
   ]
  },
  {
   "cell_type": "markdown",
   "metadata": {},
   "source": [
    "#### Save dataframe to CSV"
   ]
  },
  {
   "cell_type": "code",
   "execution_count": null,
   "metadata": {},
   "outputs": [],
   "source": [
    "df.to_json('./05_network_files/AEC_Innovation_Network.json')"
   ]
  },
  {
   "cell_type": "markdown",
   "metadata": {},
   "source": [
    "### Save Network and Attribute Data"
   ]
  },
  {
   "cell_type": "markdown",
   "metadata": {},
   "source": [
    "#### Export network in GraphML format for Gephi (includes attributes)"
   ]
  },
  {
   "cell_type": "code",
   "execution_count": null,
   "metadata": {},
   "outputs": [],
   "source": [
    "with open('./05_network_files/AEC_Innovation_Network.graphml', 'wb') as ofile:\n",
    "    nx.write_graphml(G, ofile)"
   ]
  },
  {
   "cell_type": "markdown",
   "metadata": {},
   "source": [
    "#### Export network in Pajek (.net) format for Orange3 (excludes non-string attributes)"
   ]
  },
  {
   "cell_type": "code",
   "execution_count": null,
   "metadata": {},
   "outputs": [],
   "source": [
    "with open('./05_network_files/AEC_Innovation_Network.net', 'wb') as ofile:\n",
    "    nx.write_pajek(G, ofile)"
   ]
  },
  {
   "cell_type": "code",
   "execution_count": null,
   "metadata": {},
   "outputs": [],
   "source": []
  }
 ],
 "metadata": {
  "kernelspec": {
   "display_name": "Python 3",
   "language": "python",
   "name": "python3"
  },
  "language_info": {
   "codemirror_mode": {
    "name": "ipython",
    "version": 3
   },
   "file_extension": ".py",
   "mimetype": "text/x-python",
   "name": "python",
   "nbconvert_exporter": "python",
   "pygments_lexer": "ipython3",
   "version": "3.8.5"
  }
 },
 "nbformat": 4,
 "nbformat_minor": 4
}
